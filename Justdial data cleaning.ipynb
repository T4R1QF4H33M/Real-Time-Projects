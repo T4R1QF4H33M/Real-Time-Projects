{
 "cells": [
  {
   "cell_type": "code",
   "execution_count": 1,
   "id": "939bbae8",
   "metadata": {},
   "outputs": [],
   "source": [
    "import pandas as pd\n",
    "import numpy as np\n",
    "import matplotlib.pyplot as plt\n",
    "%matplotlib inline"
   ]
  },
  {
   "cell_type": "code",
   "execution_count": 2,
   "id": "792abc5f",
   "metadata": {},
   "outputs": [
    {
     "name": "stdout",
     "output_type": "stream",
     "text": [
      "D:\\Data Science\\Python\\justdial\n"
     ]
    }
   ],
   "source": [
    "import io\n",
    "%cd \"D:\\Data Science\\Python\\justdial\""
   ]
  },
  {
   "cell_type": "code",
   "execution_count": 3,
   "id": "ed3753a6",
   "metadata": {},
   "outputs": [],
   "source": [
    "justdial_data=pd.read_excel('justdial.xlsx')"
   ]
  },
  {
   "cell_type": "code",
   "execution_count": 4,
   "id": "6a441ce7",
   "metadata": {
    "scrolled": true
   },
   "outputs": [
    {
     "data": {
      "text/html": [
       "<div>\n",
       "<style scoped>\n",
       "    .dataframe tbody tr th:only-of-type {\n",
       "        vertical-align: middle;\n",
       "    }\n",
       "\n",
       "    .dataframe tbody tr th {\n",
       "        vertical-align: top;\n",
       "    }\n",
       "\n",
       "    .dataframe thead th {\n",
       "        text-align: right;\n",
       "    }\n",
       "</style>\n",
       "<table border=\"1\" class=\"dataframe\">\n",
       "  <thead>\n",
       "    <tr style=\"text-align: right;\">\n",
       "      <th></th>\n",
       "      <th>resultbox_imagebox href</th>\n",
       "      <th>resultbox_image src</th>\n",
       "      <th>font16</th>\n",
       "      <th>resultbox_title_anchor</th>\n",
       "      <th>resultbox_totalrate</th>\n",
       "      <th>resultbox_starrate href</th>\n",
       "      <th>resultbox_countrate</th>\n",
       "      <th>font15</th>\n",
       "      <th>font14</th>\n",
       "      <th>font14 2</th>\n",
       "      <th>...</th>\n",
       "      <th>font14 5</th>\n",
       "      <th>comment_text</th>\n",
       "      <th>font14 6</th>\n",
       "      <th>colorFFF href</th>\n",
       "      <th>callcontent</th>\n",
       "      <th>blue_whitefill_animate</th>\n",
       "      <th>font12 2</th>\n",
       "      <th>trusttooltip</th>\n",
       "      <th>font14 7</th>\n",
       "      <th>rupees</th>\n",
       "    </tr>\n",
       "  </thead>\n",
       "  <tbody>\n",
       "    <tr>\n",
       "      <th>0</th>\n",
       "      <td>https://www.justdial.com/Delhi/Teo-Lounge-and-...</td>\n",
       "      <td>https://content.jdmagicbox.com/comp/delhi/c3/0...</td>\n",
       "      <td>Most searched</td>\n",
       "      <td>Teo Lounge and Bar</td>\n",
       "      <td>4.0</td>\n",
       "      <td>[object Object]</td>\n",
       "      <td>3,694 Ratings</td>\n",
       "      <td>Club Road Punjabi Bagh</td>\n",
       "      <td>Open</td>\n",
       "      <td>until 12:00 am</td>\n",
       "      <td>...</td>\n",
       "      <td>7 Suggestions</td>\n",
       "      <td>This cozy restaurant has left the best impress...</td>\n",
       "      <td>more</td>\n",
       "      <td>tel:07947451723</td>\n",
       "      <td>07947451723</td>\n",
       "      <td>Order online</td>\n",
       "      <td>1198 people recently enquired</td>\n",
       "      <td>NaN</td>\n",
       "      <td>NaN</td>\n",
       "      <td>NaN</td>\n",
       "    </tr>\n",
       "    <tr>\n",
       "      <th>1</th>\n",
       "      <td>https://www.justdial.com/Delhi/The-Barbeque-TI...</td>\n",
       "      <td>https://content.jdmagicbox.com/comp/delhi/p9/0...</td>\n",
       "      <td>Popular</td>\n",
       "      <td>The Barbeque TIMES</td>\n",
       "      <td>4.2</td>\n",
       "      <td>[object Object]</td>\n",
       "      <td>3,543 Ratings</td>\n",
       "      <td>Garden Gurgaon Sector 51</td>\n",
       "      <td>Opens in</td>\n",
       "      <td>10 mins</td>\n",
       "      <td>...</td>\n",
       "      <td>4 Suggestions</td>\n",
       "      <td>I like the restaurants of staff and decoration...</td>\n",
       "      <td>more</td>\n",
       "      <td>NaN</td>\n",
       "      <td>Show Number</td>\n",
       "      <td>NaN</td>\n",
       "      <td>100 people recently enquired</td>\n",
       "      <td>This business Information is verified by Justd...</td>\n",
       "      <td>1800 Price for two</td>\n",
       "      <td>₹</td>\n",
       "    </tr>\n",
       "    <tr>\n",
       "      <th>2</th>\n",
       "      <td>https://www.justdial.com/Delhi/Lucia-Bar-and-L...</td>\n",
       "      <td>https://content.jdmagicbox.com/comp/delhi/b8/0...</td>\n",
       "      <td>Quick Response</td>\n",
       "      <td>Lucia Bar and Lounge</td>\n",
       "      <td>4.1</td>\n",
       "      <td>[object Object]</td>\n",
       "      <td>132 Ratings</td>\n",
       "      <td>M G Road MG ROAD GURGAON</td>\n",
       "      <td>Open</td>\n",
       "      <td>until 2:00 am</td>\n",
       "      <td>...</td>\n",
       "      <td>NaN</td>\n",
       "      <td>When we think about celebrations is always our...</td>\n",
       "      <td>more</td>\n",
       "      <td>tel:07947213966</td>\n",
       "      <td>07947213966</td>\n",
       "      <td>NaN</td>\n",
       "      <td>186 people recently enquired</td>\n",
       "      <td>NaN</td>\n",
       "      <td>2100 Price for two</td>\n",
       "      <td>₹</td>\n",
       "    </tr>\n",
       "    <tr>\n",
       "      <th>3</th>\n",
       "      <td>https://www.justdial.com/Delhi/Good-Foods-Lab-...</td>\n",
       "      <td>https://content.jdmagicbox.com/comp/delhi/f7/0...</td>\n",
       "      <td>Trending</td>\n",
       "      <td>Good Foods Lab</td>\n",
       "      <td>4.7</td>\n",
       "      <td>[object Object]</td>\n",
       "      <td>211 Ratings</td>\n",
       "      <td>Noida Sector 2</td>\n",
       "      <td>Open</td>\n",
       "      <td>until 11:00 pm</td>\n",
       "      <td>...</td>\n",
       "      <td>22 Suggestions</td>\n",
       "      <td>It`s a great restaurant, my first time experie...</td>\n",
       "      <td>more</td>\n",
       "      <td>tel:07947286381</td>\n",
       "      <td>07947286381</td>\n",
       "      <td>NaN</td>\n",
       "      <td>580 people recently enquired</td>\n",
       "      <td>This business Information is verified by Justd...</td>\n",
       "      <td>110 Price for two</td>\n",
       "      <td>₹</td>\n",
       "    </tr>\n",
       "    <tr>\n",
       "      <th>4</th>\n",
       "      <td>https://www.justdial.com/Delhi/Shahi-Mahal-Fam...</td>\n",
       "      <td>https://content.jdmagicbox.com/comp/delhi/j5/0...</td>\n",
       "      <td>NaN</td>\n",
       "      <td>Shahi Mahal Family Restaurant</td>\n",
       "      <td>4.9</td>\n",
       "      <td>[object Object]</td>\n",
       "      <td>27 Ratings</td>\n",
       "      <td>Parthala Chowk Noida Sector 122</td>\n",
       "      <td>Open 24 Hrs</td>\n",
       "      <td>NaN</td>\n",
       "      <td>...</td>\n",
       "      <td>18 Suggestions</td>\n",
       "      <td>I ordered sahi paneer and butter naan , shahi ...</td>\n",
       "      <td>NaN</td>\n",
       "      <td>tel:07947316832</td>\n",
       "      <td>07947316832</td>\n",
       "      <td>NaN</td>\n",
       "      <td>123 people recently enquired</td>\n",
       "      <td>NaN</td>\n",
       "      <td>NaN</td>\n",
       "      <td>NaN</td>\n",
       "    </tr>\n",
       "  </tbody>\n",
       "</table>\n",
       "<p>5 rows × 27 columns</p>\n",
       "</div>"
      ],
      "text/plain": [
       "                             resultbox_imagebox href  \\\n",
       "0  https://www.justdial.com/Delhi/Teo-Lounge-and-...   \n",
       "1  https://www.justdial.com/Delhi/The-Barbeque-TI...   \n",
       "2  https://www.justdial.com/Delhi/Lucia-Bar-and-L...   \n",
       "3  https://www.justdial.com/Delhi/Good-Foods-Lab-...   \n",
       "4  https://www.justdial.com/Delhi/Shahi-Mahal-Fam...   \n",
       "\n",
       "                                 resultbox_image src          font16  \\\n",
       "0  https://content.jdmagicbox.com/comp/delhi/c3/0...   Most searched   \n",
       "1  https://content.jdmagicbox.com/comp/delhi/p9/0...         Popular   \n",
       "2  https://content.jdmagicbox.com/comp/delhi/b8/0...  Quick Response   \n",
       "3  https://content.jdmagicbox.com/comp/delhi/f7/0...        Trending   \n",
       "4  https://content.jdmagicbox.com/comp/delhi/j5/0...             NaN   \n",
       "\n",
       "          resultbox_title_anchor  resultbox_totalrate resultbox_starrate href  \\\n",
       "0             Teo Lounge and Bar                  4.0         [object Object]   \n",
       "1             The Barbeque TIMES                  4.2         [object Object]   \n",
       "2           Lucia Bar and Lounge                  4.1         [object Object]   \n",
       "3                 Good Foods Lab                  4.7         [object Object]   \n",
       "4  Shahi Mahal Family Restaurant                  4.9         [object Object]   \n",
       "\n",
       "  resultbox_countrate                           font15       font14  \\\n",
       "0       3,694 Ratings           Club Road Punjabi Bagh         Open   \n",
       "1       3,543 Ratings         Garden Gurgaon Sector 51     Opens in   \n",
       "2         132 Ratings         M G Road MG ROAD GURGAON         Open   \n",
       "3         211 Ratings                   Noida Sector 2         Open   \n",
       "4          27 Ratings  Parthala Chowk Noida Sector 122  Open 24 Hrs   \n",
       "\n",
       "         font14 2  ...        font14 5  \\\n",
       "0  until 12:00 am  ...   7 Suggestions   \n",
       "1         10 mins  ...   4 Suggestions   \n",
       "2   until 2:00 am  ...             NaN   \n",
       "3  until 11:00 pm  ...  22 Suggestions   \n",
       "4             NaN  ...  18 Suggestions   \n",
       "\n",
       "                                        comment_text font14 6  \\\n",
       "0  This cozy restaurant has left the best impress...     more   \n",
       "1  I like the restaurants of staff and decoration...     more   \n",
       "2  When we think about celebrations is always our...     more   \n",
       "3  It`s a great restaurant, my first time experie...     more   \n",
       "4  I ordered sahi paneer and butter naan , shahi ...      NaN   \n",
       "\n",
       "     colorFFF href  callcontent blue_whitefill_animate  \\\n",
       "0  tel:07947451723  07947451723           Order online   \n",
       "1              NaN  Show Number                    NaN   \n",
       "2  tel:07947213966  07947213966                    NaN   \n",
       "3  tel:07947286381  07947286381                    NaN   \n",
       "4  tel:07947316832  07947316832                    NaN   \n",
       "\n",
       "                        font12 2  \\\n",
       "0  1198 people recently enquired   \n",
       "1   100 people recently enquired   \n",
       "2   186 people recently enquired   \n",
       "3   580 people recently enquired   \n",
       "4   123 people recently enquired   \n",
       "\n",
       "                                        trusttooltip            font14 7  \\\n",
       "0                                                NaN                 NaN   \n",
       "1  This business Information is verified by Justd...  1800 Price for two   \n",
       "2                                                NaN  2100 Price for two   \n",
       "3  This business Information is verified by Justd...   110 Price for two   \n",
       "4                                                NaN                 NaN   \n",
       "\n",
       "  rupees  \n",
       "0    NaN  \n",
       "1      ₹  \n",
       "2      ₹  \n",
       "3      ₹  \n",
       "4    NaN  \n",
       "\n",
       "[5 rows x 27 columns]"
      ]
     },
     "execution_count": 4,
     "metadata": {},
     "output_type": "execute_result"
    }
   ],
   "source": [
    "justdial_data.head()"
   ]
  },
  {
   "cell_type": "code",
   "execution_count": 5,
   "id": "82b11836",
   "metadata": {},
   "outputs": [
    {
     "data": {
      "text/html": [
       "<div>\n",
       "<style scoped>\n",
       "    .dataframe tbody tr th:only-of-type {\n",
       "        vertical-align: middle;\n",
       "    }\n",
       "\n",
       "    .dataframe tbody tr th {\n",
       "        vertical-align: top;\n",
       "    }\n",
       "\n",
       "    .dataframe thead th {\n",
       "        text-align: right;\n",
       "    }\n",
       "</style>\n",
       "<table border=\"1\" class=\"dataframe\">\n",
       "  <thead>\n",
       "    <tr style=\"text-align: right;\">\n",
       "      <th></th>\n",
       "      <th>resultbox_imagebox href</th>\n",
       "      <th>resultbox_image src</th>\n",
       "      <th>font16</th>\n",
       "      <th>resultbox_title_anchor</th>\n",
       "      <th>resultbox_totalrate</th>\n",
       "      <th>resultbox_starrate href</th>\n",
       "      <th>resultbox_countrate</th>\n",
       "      <th>font15</th>\n",
       "      <th>font14</th>\n",
       "      <th>font14 2</th>\n",
       "      <th>...</th>\n",
       "      <th>font14 5</th>\n",
       "      <th>comment_text</th>\n",
       "      <th>font14 6</th>\n",
       "      <th>colorFFF href</th>\n",
       "      <th>callcontent</th>\n",
       "      <th>blue_whitefill_animate</th>\n",
       "      <th>font12 2</th>\n",
       "      <th>trusttooltip</th>\n",
       "      <th>font14 7</th>\n",
       "      <th>rupees</th>\n",
       "    </tr>\n",
       "  </thead>\n",
       "  <tbody>\n",
       "    <tr>\n",
       "      <th>95</th>\n",
       "      <td>https://www.justdial.com/Delhi/Spice-Grill-Fla...</td>\n",
       "      <td>https://content.jdmagicbox.com/comp/delhi/e6/0...</td>\n",
       "      <td>NaN</td>\n",
       "      <td>Spice Grill Flame</td>\n",
       "      <td>4.0</td>\n",
       "      <td>[object Object]</td>\n",
       "      <td>9 Ratings</td>\n",
       "      <td>DDA Market Paschim Vihar</td>\n",
       "      <td>Open</td>\n",
       "      <td>until 3:30 am</td>\n",
       "      <td>...</td>\n",
       "      <td>NaN</td>\n",
       "      <td>NaN</td>\n",
       "      <td>NaN</td>\n",
       "      <td>NaN</td>\n",
       "      <td>Show Number</td>\n",
       "      <td>NaN</td>\n",
       "      <td>23 people recently enquired</td>\n",
       "      <td>NaN</td>\n",
       "      <td>NaN</td>\n",
       "      <td>NaN</td>\n",
       "    </tr>\n",
       "    <tr>\n",
       "      <th>96</th>\n",
       "      <td>https://www.justdial.com/Delhi/Metro-Express-R...</td>\n",
       "      <td>https://content.jdmagicbox.com/comp/delhi/k7/0...</td>\n",
       "      <td>NaN</td>\n",
       "      <td>Metro Express Restaurant</td>\n",
       "      <td>3.8</td>\n",
       "      <td>[object Object]</td>\n",
       "      <td>85 Ratings</td>\n",
       "      <td>Gautam Nagar</td>\n",
       "      <td>Open</td>\n",
       "      <td>until 11:00 pm</td>\n",
       "      <td>...</td>\n",
       "      <td>NaN</td>\n",
       "      <td>Phenomenal experience. Top notch food, atmosph...</td>\n",
       "      <td>more</td>\n",
       "      <td>NaN</td>\n",
       "      <td>Show Number</td>\n",
       "      <td>NaN</td>\n",
       "      <td>15 people recently enquired</td>\n",
       "      <td>NaN</td>\n",
       "      <td>310 Price for two</td>\n",
       "      <td>₹</td>\n",
       "    </tr>\n",
       "    <tr>\n",
       "      <th>97</th>\n",
       "      <td>https://www.justdial.com/Delhi/Kimchi-Korean-R...</td>\n",
       "      <td>https://content.jdmagicbox.com/comp/delhi/j4/0...</td>\n",
       "      <td>Trending</td>\n",
       "      <td>Kimchi Korean Restaurant</td>\n",
       "      <td>4.2</td>\n",
       "      <td>[object Object]</td>\n",
       "      <td>536 Ratings</td>\n",
       "      <td>Majnu Ka Tilla</td>\n",
       "      <td>Open</td>\n",
       "      <td>until 11:00 pm</td>\n",
       "      <td>...</td>\n",
       "      <td>3 Suggestions</td>\n",
       "      <td>Its a beautiful cafe with amazing aesthetic in...</td>\n",
       "      <td>more</td>\n",
       "      <td>NaN</td>\n",
       "      <td>Show Number</td>\n",
       "      <td>NaN</td>\n",
       "      <td>23 people recently enquired</td>\n",
       "      <td>NaN</td>\n",
       "      <td>710 Price for two</td>\n",
       "      <td>₹</td>\n",
       "    </tr>\n",
       "    <tr>\n",
       "      <th>98</th>\n",
       "      <td>https://www.justdial.com/Delhi/Fiery-Grills-Pi...</td>\n",
       "      <td>https://content.jdmagicbox.com/comp/delhi/k8/0...</td>\n",
       "      <td>NaN</td>\n",
       "      <td>Fiery Grills</td>\n",
       "      <td>4.0</td>\n",
       "      <td>[object Object]</td>\n",
       "      <td>1,212 Ratings</td>\n",
       "      <td>Netaji Subhas Place Pitampura</td>\n",
       "      <td>Open</td>\n",
       "      <td>until 11:00 pm</td>\n",
       "      <td>...</td>\n",
       "      <td>NaN</td>\n",
       "      <td>I visit this restaurant for my dad birthday pa...</td>\n",
       "      <td>more</td>\n",
       "      <td>tel:07947466490</td>\n",
       "      <td>07947466490</td>\n",
       "      <td>Order online</td>\n",
       "      <td>394 people recently enquired</td>\n",
       "      <td>This business Information is verified by Justd...</td>\n",
       "      <td>1900 Price for two</td>\n",
       "      <td>₹</td>\n",
       "    </tr>\n",
       "    <tr>\n",
       "      <th>99</th>\n",
       "      <td>https://www.justdial.com/Delhi/Punjabi-Angithi...</td>\n",
       "      <td>https://content.jdmagicbox.com/comp/delhi/s7/0...</td>\n",
       "      <td>NaN</td>\n",
       "      <td>Punjabi Angithi</td>\n",
       "      <td>4.0</td>\n",
       "      <td>[object Object]</td>\n",
       "      <td>1,184 Ratings</td>\n",
       "      <td>Ashok Vihar</td>\n",
       "      <td>Open</td>\n",
       "      <td>until 11:00 pm</td>\n",
       "      <td>...</td>\n",
       "      <td>NaN</td>\n",
       "      <td>Vietnamese rolls were a colourful assortment w...</td>\n",
       "      <td>more</td>\n",
       "      <td>tel:07942594151</td>\n",
       "      <td>07942594151</td>\n",
       "      <td>NaN</td>\n",
       "      <td>536 people recently enquired</td>\n",
       "      <td>This business Information is verified by Justd...</td>\n",
       "      <td>NaN</td>\n",
       "      <td>NaN</td>\n",
       "    </tr>\n",
       "  </tbody>\n",
       "</table>\n",
       "<p>5 rows × 27 columns</p>\n",
       "</div>"
      ],
      "text/plain": [
       "                              resultbox_imagebox href  \\\n",
       "95  https://www.justdial.com/Delhi/Spice-Grill-Fla...   \n",
       "96  https://www.justdial.com/Delhi/Metro-Express-R...   \n",
       "97  https://www.justdial.com/Delhi/Kimchi-Korean-R...   \n",
       "98  https://www.justdial.com/Delhi/Fiery-Grills-Pi...   \n",
       "99  https://www.justdial.com/Delhi/Punjabi-Angithi...   \n",
       "\n",
       "                                  resultbox_image src    font16  \\\n",
       "95  https://content.jdmagicbox.com/comp/delhi/e6/0...       NaN   \n",
       "96  https://content.jdmagicbox.com/comp/delhi/k7/0...       NaN   \n",
       "97  https://content.jdmagicbox.com/comp/delhi/j4/0...  Trending   \n",
       "98  https://content.jdmagicbox.com/comp/delhi/k8/0...       NaN   \n",
       "99  https://content.jdmagicbox.com/comp/delhi/s7/0...       NaN   \n",
       "\n",
       "      resultbox_title_anchor  resultbox_totalrate resultbox_starrate href  \\\n",
       "95         Spice Grill Flame                  4.0         [object Object]   \n",
       "96  Metro Express Restaurant                  3.8         [object Object]   \n",
       "97  Kimchi Korean Restaurant                  4.2         [object Object]   \n",
       "98              Fiery Grills                  4.0         [object Object]   \n",
       "99           Punjabi Angithi                  4.0         [object Object]   \n",
       "\n",
       "   resultbox_countrate                         font15 font14        font14 2  \\\n",
       "95           9 Ratings       DDA Market Paschim Vihar   Open   until 3:30 am   \n",
       "96          85 Ratings                   Gautam Nagar   Open  until 11:00 pm   \n",
       "97         536 Ratings                 Majnu Ka Tilla   Open  until 11:00 pm   \n",
       "98       1,212 Ratings  Netaji Subhas Place Pitampura   Open  until 11:00 pm   \n",
       "99       1,184 Ratings                    Ashok Vihar   Open  until 11:00 pm   \n",
       "\n",
       "    ...       font14 5                                       comment_text  \\\n",
       "95  ...            NaN                                                NaN   \n",
       "96  ...            NaN  Phenomenal experience. Top notch food, atmosph...   \n",
       "97  ...  3 Suggestions  Its a beautiful cafe with amazing aesthetic in...   \n",
       "98  ...            NaN  I visit this restaurant for my dad birthday pa...   \n",
       "99  ...            NaN  Vietnamese rolls were a colourful assortment w...   \n",
       "\n",
       "   font14 6    colorFFF href  callcontent blue_whitefill_animate  \\\n",
       "95      NaN              NaN  Show Number                    NaN   \n",
       "96     more              NaN  Show Number                    NaN   \n",
       "97     more              NaN  Show Number                    NaN   \n",
       "98     more  tel:07947466490  07947466490           Order online   \n",
       "99     more  tel:07942594151  07942594151                    NaN   \n",
       "\n",
       "                        font12 2  \\\n",
       "95   23 people recently enquired   \n",
       "96   15 people recently enquired   \n",
       "97   23 people recently enquired   \n",
       "98  394 people recently enquired   \n",
       "99  536 people recently enquired   \n",
       "\n",
       "                                         trusttooltip            font14 7  \\\n",
       "95                                                NaN                 NaN   \n",
       "96                                                NaN   310 Price for two   \n",
       "97                                                NaN   710 Price for two   \n",
       "98  This business Information is verified by Justd...  1900 Price for two   \n",
       "99  This business Information is verified by Justd...                 NaN   \n",
       "\n",
       "   rupees  \n",
       "95    NaN  \n",
       "96      ₹  \n",
       "97      ₹  \n",
       "98      ₹  \n",
       "99    NaN  \n",
       "\n",
       "[5 rows x 27 columns]"
      ]
     },
     "execution_count": 5,
     "metadata": {},
     "output_type": "execute_result"
    }
   ],
   "source": [
    "justdial_data.tail()"
   ]
  },
  {
   "cell_type": "code",
   "execution_count": 6,
   "id": "79ab5216",
   "metadata": {},
   "outputs": [
    {
     "data": {
      "text/plain": [
       "(100, 27)"
      ]
     },
     "execution_count": 6,
     "metadata": {},
     "output_type": "execute_result"
    }
   ],
   "source": [
    "justdial_data.shape"
   ]
  },
  {
   "cell_type": "code",
   "execution_count": 7,
   "id": "46101bc8",
   "metadata": {},
   "outputs": [
    {
     "data": {
      "text/plain": [
       "resultbox_imagebox href     0\n",
       "resultbox_image src         0\n",
       "font16                     47\n",
       "resultbox_title_anchor      0\n",
       "resultbox_totalrate         0\n",
       "resultbox_starrate href     0\n",
       "resultbox_countrate         0\n",
       "font15                      0\n",
       "font14                      0\n",
       "font14 2                   14\n",
       "font14 3                   20\n",
       "amenities_tabs              0\n",
       "amenities_tabs 2            2\n",
       "amenities_tabs 3           12\n",
       "amenities_tabs 4           15\n",
       "amenities_tabs 5           22\n",
       "font14 4                   72\n",
       "font14 5                   72\n",
       "comment_text                6\n",
       "font14 6                   13\n",
       "colorFFF href              19\n",
       "callcontent                 0\n",
       "blue_whitefill_animate     47\n",
       "font12 2                    1\n",
       "trusttooltip               45\n",
       "font14 7                   29\n",
       "rupees                     29\n",
       "dtype: int64"
      ]
     },
     "execution_count": 7,
     "metadata": {},
     "output_type": "execute_result"
    }
   ],
   "source": [
    "justdial_data.isnull().sum()"
   ]
  },
  {
   "cell_type": "code",
   "execution_count": 8,
   "id": "e1a16d9b",
   "metadata": {},
   "outputs": [
    {
     "data": {
      "text/plain": [
       "Index(['resultbox_imagebox href', 'resultbox_image src', 'font16',\n",
       "       'resultbox_title_anchor', 'resultbox_totalrate',\n",
       "       'resultbox_starrate href', 'resultbox_countrate', 'font15', 'font14',\n",
       "       'font14 2', 'font14 3', 'amenities_tabs', 'amenities_tabs 2',\n",
       "       'amenities_tabs 3', 'amenities_tabs 4', 'amenities_tabs 5', 'font14 4',\n",
       "       'font14 5', 'comment_text', 'font14 6', 'colorFFF href', 'callcontent',\n",
       "       'blue_whitefill_animate', 'font12 2', 'trusttooltip', 'font14 7',\n",
       "       'rupees'],\n",
       "      dtype='object')"
      ]
     },
     "execution_count": 8,
     "metadata": {},
     "output_type": "execute_result"
    }
   ],
   "source": [
    "justdial_data.columns"
   ]
  },
  {
   "cell_type": "code",
   "execution_count": 9,
   "id": "ed4edbf0",
   "metadata": {},
   "outputs": [],
   "source": [
    "justdial_data=justdial_data.rename(columns={\"font14 7\": \"Price for two in ₹\"})"
   ]
  },
  {
   "cell_type": "code",
   "execution_count": 10,
   "id": "cddcad56",
   "metadata": {},
   "outputs": [],
   "source": [
    "justdial_data=justdial_data.drop('rupees',axis=1)"
   ]
  },
  {
   "cell_type": "code",
   "execution_count": 11,
   "id": "2aff018f",
   "metadata": {},
   "outputs": [],
   "source": [
    "justdial_data['Price for two in ₹']=justdial_data['Price for two in ₹'].str.replace(' Price for two','')"
   ]
  },
  {
   "cell_type": "code",
   "execution_count": 12,
   "id": "ab288ce4",
   "metadata": {},
   "outputs": [
    {
     "data": {
      "text/plain": [
       "0      NaN\n",
       "1     1800\n",
       "2     2100\n",
       "3      110\n",
       "4      NaN\n",
       "      ... \n",
       "95     NaN\n",
       "96     310\n",
       "97     710\n",
       "98    1900\n",
       "99     NaN\n",
       "Name: Price for two in ₹, Length: 100, dtype: object"
      ]
     },
     "execution_count": 12,
     "metadata": {},
     "output_type": "execute_result"
    }
   ],
   "source": [
    "justdial_data['Price for two in ₹']"
   ]
  },
  {
   "cell_type": "code",
   "execution_count": 13,
   "id": "928a9d1f",
   "metadata": {},
   "outputs": [],
   "source": [
    "justdial_data['Price for two in ₹']=justdial_data['Price for two in ₹'].fillna('00000')"
   ]
  },
  {
   "cell_type": "code",
   "execution_count": 14,
   "id": "50e5847b",
   "metadata": {},
   "outputs": [],
   "source": [
    "justdial_data=justdial_data.rename(columns={\"font12 2\": \"No. of people recently enquired\"})"
   ]
  },
  {
   "cell_type": "code",
   "execution_count": 15,
   "id": "851b9fa4",
   "metadata": {},
   "outputs": [],
   "source": [
    "justdial_data['No. of people recently enquired']=justdial_data['No. of people recently enquired'].str.replace(' people recently enquired','')"
   ]
  },
  {
   "cell_type": "code",
   "execution_count": 16,
   "id": "bac0b734",
   "metadata": {},
   "outputs": [],
   "source": [
    "justdial_data['No. of people recently enquired']=justdial_data['No. of people recently enquired'].fillna('0')"
   ]
  },
  {
   "cell_type": "code",
   "execution_count": 17,
   "id": "09b368f4",
   "metadata": {},
   "outputs": [],
   "source": [
    "justdial_data=justdial_data.rename(columns={\"blue_whitefill_animate\": \"Order Online\"})"
   ]
  },
  {
   "cell_type": "code",
   "execution_count": 18,
   "id": "423d5b0d",
   "metadata": {},
   "outputs": [],
   "source": [
    "justdial_data['Order Online']=justdial_data['Order Online'].replace(['Order online','Order Online'],'Available')"
   ]
  },
  {
   "cell_type": "code",
   "execution_count": 19,
   "id": "a14883ff",
   "metadata": {},
   "outputs": [],
   "source": [
    "justdial_data['Order Online']=justdial_data['Order Online'].replace(['Menu'],'Not Available')"
   ]
  },
  {
   "cell_type": "code",
   "execution_count": 20,
   "id": "7b6d8263",
   "metadata": {},
   "outputs": [],
   "source": [
    "justdial_data['Order Online']=justdial_data['Order Online'].fillna('Not Available')"
   ]
  },
  {
   "cell_type": "code",
   "execution_count": 21,
   "id": "ba54d3f6",
   "metadata": {},
   "outputs": [],
   "source": [
    "justdial_data=justdial_data.rename(columns={'colorFFF href':'Contact'})"
   ]
  },
  {
   "cell_type": "code",
   "execution_count": 22,
   "id": "6b850866",
   "metadata": {},
   "outputs": [],
   "source": [
    "justdial_data.Contact=justdial_data.Contact.str.replace('tel:','')"
   ]
  },
  {
   "cell_type": "code",
   "execution_count": 23,
   "id": "b6fadbf9",
   "metadata": {},
   "outputs": [],
   "source": [
    "justdial_data.Contact=justdial_data.Contact.fillna('Not Available')"
   ]
  },
  {
   "cell_type": "code",
   "execution_count": 24,
   "id": "144c632a",
   "metadata": {},
   "outputs": [],
   "source": [
    "justdial_data=justdial_data.drop('callcontent',axis=1)"
   ]
  },
  {
   "cell_type": "code",
   "execution_count": 25,
   "id": "6b1261c1",
   "metadata": {},
   "outputs": [
    {
     "data": {
      "text/plain": [
       "more    87\n",
       "Name: font14 6, dtype: int64"
      ]
     },
     "execution_count": 25,
     "metadata": {},
     "output_type": "execute_result"
    }
   ],
   "source": [
    "justdial_data['font14 6'].value_counts()"
   ]
  },
  {
   "cell_type": "code",
   "execution_count": 26,
   "id": "70744205",
   "metadata": {},
   "outputs": [],
   "source": [
    "justdial_data=justdial_data.drop('font14 6',axis=1)"
   ]
  },
  {
   "cell_type": "code",
   "execution_count": 27,
   "id": "2fd54252",
   "metadata": {},
   "outputs": [],
   "source": [
    "justdial_data=justdial_data.rename(columns={'comment_text':'Review'})"
   ]
  },
  {
   "cell_type": "code",
   "execution_count": 28,
   "id": "9c6b8704",
   "metadata": {},
   "outputs": [
    {
     "data": {
      "text/plain": [
       "6"
      ]
     },
     "execution_count": 28,
     "metadata": {},
     "output_type": "execute_result"
    }
   ],
   "source": [
    "justdial_data.Review.isnull().sum()"
   ]
  },
  {
   "cell_type": "code",
   "execution_count": 29,
   "id": "de5e320b",
   "metadata": {},
   "outputs": [],
   "source": [
    "justdial_data.Review=justdial_data.Review.fillna('Not Available')"
   ]
  },
  {
   "cell_type": "code",
   "execution_count": 30,
   "id": "7fa73c92",
   "metadata": {},
   "outputs": [
    {
     "data": {
      "text/plain": [
       "3 Suggestions     13\n",
       "4 Suggestions      5\n",
       "7 Suggestions      2\n",
       "22 Suggestions     2\n",
       "6 Suggestions      2\n",
       "5 Suggestions      2\n",
       "18 Suggestions     1\n",
       "8 Suggestions      1\n",
       "Name: font14 5, dtype: int64"
      ]
     },
     "execution_count": 30,
     "metadata": {},
     "output_type": "execute_result"
    }
   ],
   "source": [
    "justdial_data['font14 5'].value_counts()"
   ]
  },
  {
   "cell_type": "code",
   "execution_count": 31,
   "id": "87e14d99",
   "metadata": {},
   "outputs": [
    {
     "data": {
      "text/plain": [
       "72"
      ]
     },
     "execution_count": 31,
     "metadata": {},
     "output_type": "execute_result"
    }
   ],
   "source": [
    "justdial_data['font14 5'].isnull().sum()"
   ]
  },
  {
   "cell_type": "code",
   "execution_count": 32,
   "id": "73249045",
   "metadata": {},
   "outputs": [],
   "source": [
    "#more that 70% of data is null\n",
    "justdial_data=justdial_data.drop('font14 5',axis=1)"
   ]
  },
  {
   "cell_type": "code",
   "execution_count": 33,
   "id": "24e3ee5f",
   "metadata": {},
   "outputs": [
    {
     "data": {
      "text/plain": [
       "72"
      ]
     },
     "execution_count": 33,
     "metadata": {},
     "output_type": "execute_result"
    }
   ],
   "source": [
    "justdial_data['font14 4'].isnull().sum()"
   ]
  },
  {
   "cell_type": "code",
   "execution_count": 34,
   "id": "96c62445",
   "metadata": {},
   "outputs": [],
   "source": [
    "justdial_data=justdial_data.drop('font14 4',axis=1)"
   ]
  },
  {
   "cell_type": "code",
   "execution_count": 35,
   "id": "6d30e68d",
   "metadata": {},
   "outputs": [],
   "source": [
    "justdial_data[['amenities_tabs', 'amenities_tabs 2','amenities_tabs 3', 'amenities_tabs 4', 'amenities_tabs 5']]=justdial_data[['amenities_tabs', 'amenities_tabs 2','amenities_tabs 3', 'amenities_tabs 4', 'amenities_tabs 5']].astype(str)"
   ]
  },
  {
   "cell_type": "code",
   "execution_count": 36,
   "id": "92ec0870",
   "metadata": {},
   "outputs": [
    {
     "data": {
      "text/plain": [
       "amenities_tabs      object\n",
       "amenities_tabs 2    object\n",
       "amenities_tabs 3    object\n",
       "amenities_tabs 4    object\n",
       "amenities_tabs 5    object\n",
       "dtype: object"
      ]
     },
     "execution_count": 36,
     "metadata": {},
     "output_type": "execute_result"
    }
   ],
   "source": [
    "justdial_data[['amenities_tabs', 'amenities_tabs 2','amenities_tabs 3', 'amenities_tabs 4', 'amenities_tabs 5']].dtypes"
   ]
  },
  {
   "cell_type": "code",
   "execution_count": 37,
   "id": "d991badb",
   "metadata": {},
   "outputs": [],
   "source": [
    "justdial_data[\"Amenities\"] = justdial_data[['amenities_tabs','amenities_tabs 2','amenities_tabs 3','amenities_tabs 4','amenities_tabs 5']].agg(\",\".join, axis=1)"
   ]
  },
  {
   "cell_type": "code",
   "execution_count": 38,
   "id": "de3269a4",
   "metadata": {},
   "outputs": [
    {
     "data": {
      "text/plain": [
       "0                GastroPub,Pub,Desserts,Chinese,Punjabi\n",
       "1     Take away,South Indian,Mughlai,Barbeque,Sunday...\n",
       "2     Vibrant atmosphere and affordable drinks,Bar,L...\n",
       "3     Chinese,North Indian,Home Delivery,Delivery On...\n",
       "4     Live Entertainment,Rooftop Seating Available,n...\n",
       "                            ...                        \n",
       "95     Restaurants,North Indian Restaurants,nan,nan,nan\n",
       "96    Quick Bite Outlet,North Indian,Fast Food,Home ...\n",
       "97    Casual Dining,Korean,Chinese,Home Delivery,e-W...\n",
       "98    Live Music Performances,Live Dj,Casual Dining,...\n",
       "99    Dhaba,Pure Vegetarian,Punjabi,Indian,Home Deli...\n",
       "Name: Amenities, Length: 100, dtype: object"
      ]
     },
     "execution_count": 38,
     "metadata": {},
     "output_type": "execute_result"
    }
   ],
   "source": [
    "justdial_data[\"Amenities\"]"
   ]
  },
  {
   "cell_type": "code",
   "execution_count": 39,
   "id": "c166747f",
   "metadata": {},
   "outputs": [],
   "source": [
    "justdial_data.Amenities=justdial_data.Amenities.str.replace(',nan','')"
   ]
  },
  {
   "cell_type": "code",
   "execution_count": 40,
   "id": "c19b74e6",
   "metadata": {},
   "outputs": [],
   "source": [
    "justdial_data=justdial_data.drop(['amenities_tabs','amenities_tabs 2','amenities_tabs 3','amenities_tabs 4','amenities_tabs 5'],axis=1)"
   ]
  },
  {
   "cell_type": "code",
   "execution_count": 41,
   "id": "b6d8a3c5",
   "metadata": {},
   "outputs": [],
   "source": [
    "justdial_data=justdial_data.rename(columns={'font14 3':'No. of years in Business'})"
   ]
  },
  {
   "cell_type": "code",
   "execution_count": 42,
   "id": "3b24a494",
   "metadata": {},
   "outputs": [],
   "source": [
    "justdial_data['No. of years in Business']=justdial_data['No. of years in Business'].str.replace(' Year in Business','')"
   ]
  },
  {
   "cell_type": "code",
   "execution_count": 43,
   "id": "4d1fb53d",
   "metadata": {},
   "outputs": [],
   "source": [
    "justdial_data['No. of years in Business']=justdial_data['No. of years in Business'].str.replace(' Years in Business','')"
   ]
  },
  {
   "cell_type": "code",
   "execution_count": 44,
   "id": "08adfb63",
   "metadata": {},
   "outputs": [],
   "source": [
    "justdial_data['No. of years in Business']=justdial_data['No. of years in Business'].fillna('Not Available')"
   ]
  },
  {
   "cell_type": "code",
   "execution_count": 45,
   "id": "495a103f",
   "metadata": {},
   "outputs": [],
   "source": [
    "justdial_data=justdial_data.drop(['font14','font14 2'],axis=1)"
   ]
  },
  {
   "cell_type": "code",
   "execution_count": 46,
   "id": "f43b15c1",
   "metadata": {},
   "outputs": [],
   "source": [
    "justdial_data=justdial_data.rename(columns={'font15':'Address'})"
   ]
  },
  {
   "cell_type": "code",
   "execution_count": 47,
   "id": "2e80c824",
   "metadata": {},
   "outputs": [
    {
     "data": {
      "text/plain": [
       "0"
      ]
     },
     "execution_count": 47,
     "metadata": {},
     "output_type": "execute_result"
    }
   ],
   "source": [
    "justdial_data.Address.isnull().sum()"
   ]
  },
  {
   "cell_type": "code",
   "execution_count": 48,
   "id": "2464eb1b",
   "metadata": {},
   "outputs": [],
   "source": [
    "justdial_data=justdial_data.drop('resultbox_starrate href',axis=1)"
   ]
  },
  {
   "cell_type": "code",
   "execution_count": 49,
   "id": "0cb44037",
   "metadata": {},
   "outputs": [],
   "source": [
    "justdial_data=justdial_data.rename(columns={'resultbox_countrate':'No. of Ratings'})"
   ]
  },
  {
   "cell_type": "code",
   "execution_count": 50,
   "id": "1e460fca",
   "metadata": {},
   "outputs": [],
   "source": [
    "justdial_data['No. of Ratings']=justdial_data['No. of Ratings'].str.replace(' Ratings','')"
   ]
  },
  {
   "cell_type": "code",
   "execution_count": 51,
   "id": "20758e91",
   "metadata": {},
   "outputs": [],
   "source": [
    "justdial_data=justdial_data.rename(columns={'resultbox_totalrate':'Rating'})"
   ]
  },
  {
   "cell_type": "code",
   "execution_count": 52,
   "id": "0f5674b7",
   "metadata": {},
   "outputs": [
    {
     "data": {
      "text/plain": [
       "0"
      ]
     },
     "execution_count": 52,
     "metadata": {},
     "output_type": "execute_result"
    }
   ],
   "source": [
    "justdial_data.Rating.isnull().sum()"
   ]
  },
  {
   "cell_type": "code",
   "execution_count": 53,
   "id": "ccb5e2c0",
   "metadata": {},
   "outputs": [],
   "source": [
    "justdial_data=justdial_data.rename(columns={'resultbox_title_anchor':'Business Name'})"
   ]
  },
  {
   "cell_type": "code",
   "execution_count": 54,
   "id": "5595ed86",
   "metadata": {},
   "outputs": [],
   "source": [
    "justdial_data=justdial_data.drop(['resultbox_imagebox href', 'resultbox_image src'],axis=1)"
   ]
  },
  {
   "cell_type": "code",
   "execution_count": 55,
   "id": "1c2929e7",
   "metadata": {},
   "outputs": [],
   "source": [
    "justdial_data=justdial_data.rename(columns={'font16':'Tags'})"
   ]
  },
  {
   "cell_type": "code",
   "execution_count": 56,
   "id": "f9b6fba2",
   "metadata": {},
   "outputs": [
    {
     "data": {
      "text/plain": [
       "47"
      ]
     },
     "execution_count": 56,
     "metadata": {},
     "output_type": "execute_result"
    }
   ],
   "source": [
    "justdial_data.Tags.isnull().sum()"
   ]
  },
  {
   "cell_type": "code",
   "execution_count": 57,
   "id": "a87ac3e5",
   "metadata": {},
   "outputs": [],
   "source": [
    "justdial_data.Tags=justdial_data.Tags.fillna('Not Available')"
   ]
  },
  {
   "cell_type": "code",
   "execution_count": 58,
   "id": "6837f1d8",
   "metadata": {},
   "outputs": [],
   "source": [
    "justdial_data=justdial_data.rename(columns={'trusttooltip':'Justdial verified?'})"
   ]
  },
  {
   "cell_type": "code",
   "execution_count": 59,
   "id": "cad3b17e",
   "metadata": {},
   "outputs": [
    {
     "name": "stderr",
     "output_type": "stream",
     "text": [
      "C:\\Users\\vikram\\AppData\\Local\\Temp\\ipykernel_6936\\4218540162.py:1: FutureWarning: The default value of regex will change from True to False in a future version.\n",
      "  justdial_data['Justdial verified?']=justdial_data['Justdial verified?'].str.replace('This business Information is verified by Justdial.','Yes')\n"
     ]
    }
   ],
   "source": [
    "justdial_data['Justdial verified?']=justdial_data['Justdial verified?'].str.replace('This business Information is verified by Justdial.','Yes')"
   ]
  },
  {
   "cell_type": "code",
   "execution_count": 60,
   "id": "bf86d1ff",
   "metadata": {},
   "outputs": [],
   "source": [
    "justdial_data['Justdial verified?']=justdial_data['Justdial verified?'].fillna('No')"
   ]
  },
  {
   "cell_type": "code",
   "execution_count": 61,
   "id": "a0bf3e04",
   "metadata": {},
   "outputs": [
    {
     "data": {
      "text/html": [
       "<div>\n",
       "<style scoped>\n",
       "    .dataframe tbody tr th:only-of-type {\n",
       "        vertical-align: middle;\n",
       "    }\n",
       "\n",
       "    .dataframe tbody tr th {\n",
       "        vertical-align: top;\n",
       "    }\n",
       "\n",
       "    .dataframe thead th {\n",
       "        text-align: right;\n",
       "    }\n",
       "</style>\n",
       "<table border=\"1\" class=\"dataframe\">\n",
       "  <thead>\n",
       "    <tr style=\"text-align: right;\">\n",
       "      <th></th>\n",
       "      <th>Tags</th>\n",
       "      <th>Business Name</th>\n",
       "      <th>Rating</th>\n",
       "      <th>No. of Ratings</th>\n",
       "      <th>Address</th>\n",
       "      <th>No. of years in Business</th>\n",
       "      <th>Review</th>\n",
       "      <th>Contact</th>\n",
       "      <th>Order Online</th>\n",
       "      <th>No. of people recently enquired</th>\n",
       "      <th>Justdial verified?</th>\n",
       "      <th>Price for two in ₹</th>\n",
       "      <th>Amenities</th>\n",
       "    </tr>\n",
       "  </thead>\n",
       "  <tbody>\n",
       "    <tr>\n",
       "      <th>0</th>\n",
       "      <td>Most searched</td>\n",
       "      <td>Teo Lounge and Bar</td>\n",
       "      <td>4.0</td>\n",
       "      <td>3,694</td>\n",
       "      <td>Club Road Punjabi Bagh</td>\n",
       "      <td>4</td>\n",
       "      <td>This cozy restaurant has left the best impress...</td>\n",
       "      <td>07947451723</td>\n",
       "      <td>Available</td>\n",
       "      <td>1198</td>\n",
       "      <td>No</td>\n",
       "      <td>00000</td>\n",
       "      <td>GastroPub,Pub,Desserts,Chinese,Punjabi</td>\n",
       "    </tr>\n",
       "    <tr>\n",
       "      <th>1</th>\n",
       "      <td>Popular</td>\n",
       "      <td>The Barbeque TIMES</td>\n",
       "      <td>4.2</td>\n",
       "      <td>3,543</td>\n",
       "      <td>Garden Gurgaon Sector 51</td>\n",
       "      <td>1</td>\n",
       "      <td>I like the restaurants of staff and decoration...</td>\n",
       "      <td>Not Available</td>\n",
       "      <td>Not Available</td>\n",
       "      <td>100</td>\n",
       "      <td>Yes</td>\n",
       "      <td>1800</td>\n",
       "      <td>Take away,South Indian,Mughlai,Barbeque,Sunday...</td>\n",
       "    </tr>\n",
       "    <tr>\n",
       "      <th>2</th>\n",
       "      <td>Quick Response</td>\n",
       "      <td>Lucia Bar and Lounge</td>\n",
       "      <td>4.1</td>\n",
       "      <td>132</td>\n",
       "      <td>M G Road MG ROAD GURGAON</td>\n",
       "      <td>13</td>\n",
       "      <td>When we think about celebrations is always our...</td>\n",
       "      <td>07947213966</td>\n",
       "      <td>Not Available</td>\n",
       "      <td>186</td>\n",
       "      <td>No</td>\n",
       "      <td>2100</td>\n",
       "      <td>Vibrant atmosphere and affordable drinks,Bar,L...</td>\n",
       "    </tr>\n",
       "    <tr>\n",
       "      <th>3</th>\n",
       "      <td>Trending</td>\n",
       "      <td>Good Foods Lab</td>\n",
       "      <td>4.7</td>\n",
       "      <td>211</td>\n",
       "      <td>Noida Sector 2</td>\n",
       "      <td>1</td>\n",
       "      <td>It`s a great restaurant, my first time experie...</td>\n",
       "      <td>07947286381</td>\n",
       "      <td>Not Available</td>\n",
       "      <td>580</td>\n",
       "      <td>Yes</td>\n",
       "      <td>110</td>\n",
       "      <td>Chinese,North Indian,Home Delivery,Delivery Only</td>\n",
       "    </tr>\n",
       "    <tr>\n",
       "      <th>4</th>\n",
       "      <td>Not Available</td>\n",
       "      <td>Shahi Mahal Family Restaurant</td>\n",
       "      <td>4.9</td>\n",
       "      <td>27</td>\n",
       "      <td>Parthala Chowk Noida Sector 122</td>\n",
       "      <td>1</td>\n",
       "      <td>I ordered sahi paneer and butter naan , shahi ...</td>\n",
       "      <td>07947316832</td>\n",
       "      <td>Not Available</td>\n",
       "      <td>123</td>\n",
       "      <td>No</td>\n",
       "      <td>00000</td>\n",
       "      <td>Live Entertainment,Rooftop Seating Available</td>\n",
       "    </tr>\n",
       "  </tbody>\n",
       "</table>\n",
       "</div>"
      ],
      "text/plain": [
       "             Tags                  Business Name  Rating No. of Ratings  \\\n",
       "0   Most searched             Teo Lounge and Bar     4.0          3,694   \n",
       "1         Popular             The Barbeque TIMES     4.2          3,543   \n",
       "2  Quick Response           Lucia Bar and Lounge     4.1            132   \n",
       "3        Trending                 Good Foods Lab     4.7            211   \n",
       "4   Not Available  Shahi Mahal Family Restaurant     4.9             27   \n",
       "\n",
       "                           Address No. of years in Business  \\\n",
       "0           Club Road Punjabi Bagh                        4   \n",
       "1         Garden Gurgaon Sector 51                        1   \n",
       "2         M G Road MG ROAD GURGAON                       13   \n",
       "3                   Noida Sector 2                        1   \n",
       "4  Parthala Chowk Noida Sector 122                        1   \n",
       "\n",
       "                                              Review        Contact  \\\n",
       "0  This cozy restaurant has left the best impress...    07947451723   \n",
       "1  I like the restaurants of staff and decoration...  Not Available   \n",
       "2  When we think about celebrations is always our...    07947213966   \n",
       "3  It`s a great restaurant, my first time experie...    07947286381   \n",
       "4  I ordered sahi paneer and butter naan , shahi ...    07947316832   \n",
       "\n",
       "    Order Online No. of people recently enquired Justdial verified?  \\\n",
       "0      Available                            1198                 No   \n",
       "1  Not Available                             100                Yes   \n",
       "2  Not Available                             186                 No   \n",
       "3  Not Available                             580                Yes   \n",
       "4  Not Available                             123                 No   \n",
       "\n",
       "  Price for two in ₹                                          Amenities  \n",
       "0              00000             GastroPub,Pub,Desserts,Chinese,Punjabi  \n",
       "1               1800  Take away,South Indian,Mughlai,Barbeque,Sunday...  \n",
       "2               2100  Vibrant atmosphere and affordable drinks,Bar,L...  \n",
       "3                110   Chinese,North Indian,Home Delivery,Delivery Only  \n",
       "4              00000       Live Entertainment,Rooftop Seating Available  "
      ]
     },
     "execution_count": 61,
     "metadata": {},
     "output_type": "execute_result"
    }
   ],
   "source": [
    "justdial_data.head()"
   ]
  },
  {
   "cell_type": "code",
   "execution_count": 62,
   "id": "b3fb577e",
   "metadata": {},
   "outputs": [
    {
     "data": {
      "text/plain": [
       "Tags                               0\n",
       "Business Name                      0\n",
       "Rating                             0\n",
       "No. of Ratings                     0\n",
       "Address                            0\n",
       "No. of years in Business           0\n",
       "Review                             0\n",
       "Contact                            0\n",
       "Order Online                       0\n",
       "No. of people recently enquired    0\n",
       "Justdial verified?                 0\n",
       "Price for two in ₹                 0\n",
       "Amenities                          0\n",
       "dtype: int64"
      ]
     },
     "execution_count": 62,
     "metadata": {},
     "output_type": "execute_result"
    }
   ],
   "source": [
    "justdial_data.isnull().sum()"
   ]
  },
  {
   "cell_type": "code",
   "execution_count": 63,
   "id": "b4004605",
   "metadata": {},
   "outputs": [],
   "source": [
    "pd.DataFrame(justdial_data).to_excel('justdial_clean.xlsx')"
   ]
  },
  {
   "cell_type": "code",
   "execution_count": null,
   "id": "ecefee4b",
   "metadata": {},
   "outputs": [],
   "source": []
  }
 ],
 "metadata": {
  "kernelspec": {
   "display_name": "Python 3 (ipykernel)",
   "language": "python",
   "name": "python3"
  },
  "language_info": {
   "codemirror_mode": {
    "name": "ipython",
    "version": 3
   },
   "file_extension": ".py",
   "mimetype": "text/x-python",
   "name": "python",
   "nbconvert_exporter": "python",
   "pygments_lexer": "ipython3",
   "version": "3.9.12"
  }
 },
 "nbformat": 4,
 "nbformat_minor": 5
}
